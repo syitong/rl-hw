{
 "cells": [
  {
   "cell_type": "code",
   "execution_count": 1,
   "metadata": {},
   "outputs": [],
   "source": [
    "import numpy as np\n",
    "import tensorflow as tf"
   ]
  },
  {
   "cell_type": "code",
   "execution_count": 7,
   "metadata": {},
   "outputs": [
    {
     "name": "stdout",
     "output_type": "stream",
     "text": [
      "[[0.60692424]\n",
      " [0.60606205]] [[0.]\n",
      " [0.]]\n",
      "[[0.60692424]\n",
      " [0.60606205]] [[0.60692424]\n",
      " [0.60606205]]\n",
      "[[0.]\n",
      " [0.]] [[0.60692424]\n",
      " [0.60606205]]\n"
     ]
    }
   ],
   "source": [
    "a = tf.Variable(tf.truncated_normal(shape=[2,1]))\n",
    "b = tf.Variable(tf.constant(0.,shape=[2,1]))\n",
    "init = tf.global_variables_initializer()\n",
    "op1 = tf.assign(b,a)\n",
    "op2 = tf.assign(a,[[0.],[0.]])\n",
    "\n",
    "with tf.Session() as sess:\n",
    "    sess.run(init)\n",
    "    print(sess.run(a),sess.run(b))\n",
    "    sess.run(op1)\n",
    "    print(sess.run(a),sess.run(b))\n",
    "    sess.run(op2)\n",
    "#     sess.run(op1)\n",
    "    print(sess.run(a),sess.run(b))"
   ]
  },
  {
   "cell_type": "code",
   "execution_count": null,
   "metadata": {},
   "outputs": [],
   "source": [
    "a = np.array((2,3,4)).reshape((1,-1))\n",
    "a"
   ]
  }
 ],
 "metadata": {
  "kernelspec": {
   "display_name": "ml",
   "language": "python",
   "name": "ml"
  },
  "language_info": {
   "codemirror_mode": {
    "name": "ipython",
    "version": 3
   },
   "file_extension": ".py",
   "mimetype": "text/x-python",
   "name": "python",
   "nbconvert_exporter": "python",
   "pygments_lexer": "ipython3",
   "version": "3.5.3"
  }
 },
 "nbformat": 4,
 "nbformat_minor": 2
}
