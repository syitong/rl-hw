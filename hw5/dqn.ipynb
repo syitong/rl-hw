{
 "cells": [
  {
   "cell_type": "code",
   "execution_count": 14,
   "metadata": {},
   "outputs": [
    {
     "data": {
      "text/plain": [
       "[2, 3, 4, 5]"
      ]
     },
     "execution_count": 14,
     "metadata": {},
     "output_type": "execute_result"
    }
   ],
   "source": [
    "class memory(list):\n",
    "    def __init__(self,length):\n",
    "        self.length = length\n",
    "        super().__init__()\n",
    "    def add(self,x):\n",
    "        if len(self) < self.length:\n",
    "            super().append(x)\n",
    "        elif len(self) == self.length:\n",
    "            super().pop(0)\n",
    "            super().append(x)\n",
    "D = memory(4)\n",
    "len(D)\n",
    "D.add(1)\n",
    "D\n",
    "D.add(2)\n",
    "D\n",
    "D.add(3)\n",
    "D\n",
    "D.add(4)\n",
    "D\n",
    "D.add(5)\n",
    "D"
   ]
  }
 ],
 "metadata": {
  "kernelspec": {
   "display_name": "ml",
   "language": "python",
   "name": "ml"
  },
  "language_info": {
   "codemirror_mode": {
    "name": "ipython",
    "version": 3
   },
   "file_extension": ".py",
   "mimetype": "text/x-python",
   "name": "python",
   "nbconvert_exporter": "python",
   "pygments_lexer": "ipython3",
   "version": "3.5.3"
  }
 },
 "nbformat": 4,
 "nbformat_minor": 2
}
