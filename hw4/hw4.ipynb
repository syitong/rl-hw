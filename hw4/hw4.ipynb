{
 "cells": [
  {
   "cell_type": "code",
   "execution_count": 2,
   "metadata": {},
   "outputs": [],
   "source": [
    "%matplotlib notebook"
   ]
  },
  {
   "cell_type": "code",
   "execution_count": 31,
   "metadata": {},
   "outputs": [],
   "source": [
    "import matplotlib as mpl\n",
    "# mpl.use('agg')\n",
    "import matplotlib.pyplot as plt\n",
    "# plt.style.use('ggplot')\n",
    "import numpy as np\n",
    "import sys,time\n",
    "from mdp import value_iter"
   ]
  },
  {
   "cell_type": "code",
   "execution_count": 68,
   "metadata": {},
   "outputs": [],
   "source": [
    "MAPS = \\\n",
    "'''\n",
    "xxxxxxxxxxxxx\n",
    "xoooooxooooox\n",
    "xoooooxooooox\n",
    "xooooooooooox\n",
    "xoooooxooooox\n",
    "xoooooxooooox\n",
    "xxoxxxxooooox\n",
    "xoooooxxxoxxx\n",
    "xoooooxooooox\n",
    "xoooooxooooox\n",
    "xooooooooooox\n",
    "xoooooxooooox\n",
    "xxxxxxxxxxxxx\n",
    "'''\n",
    "LEFT = 0\n",
    "RIGHT = 1\n",
    "UP = 2\n",
    "DOWN = 3\n",
    "GAMMA = 0.9\n",
    "THETA = 0.0001"
   ]
  },
  {
   "cell_type": "code",
   "execution_count": 20,
   "metadata": {},
   "outputs": [
    {
     "name": "stdout",
     "output_type": "stream",
     "text": [
      "0\n"
     ]
    }
   ],
   "source": [
    "# a = MAPS\n",
    "# a.split('\\n')[1:-1]\n",
    "x = 1 if False else 0\n",
    "print(x)"
   ]
  },
  {
   "cell_type": "code",
   "execution_count": 124,
   "metadata": {},
   "outputs": [],
   "source": [
    "def trans_mat(maps,p,r,term_set,init_set=None):\n",
    "    moveup = lambda x,y:(x,y-1)\n",
    "    movedown = lambda x,y:(x,y+1)\n",
    "    moveleft = lambda x,y:(x-1,y)\n",
    "    moveright = lambda x,y:(x+1,y)\n",
    "    \n",
    "    def reward(x,y):\n",
    "        return (r,True) if (x,y) in term_set else (0,False)\n",
    "    \n",
    "    maps = maps.split('\\n')[-1:1]\n",
    "    P = {}\n",
    "    for x,row in enumerate(maps):\n",
    "        for y,letter in enumerate(row):\n",
    "            if init_set == None or (x,y) in init_set:\n",
    "                if letter != 'x':\n",
    "                    P[(x,y)] = {}\n",
    "                    for a in range(4):\n",
    "                        item = []\n",
    "                        for a_ in range(4):\n",
    "                            if a == UP:\n",
    "                                x_,y_ = moveup(x,y)\n",
    "                            elif a == DOWN:\n",
    "                                x_,y_ = movedown(x,y)\n",
    "                            elif a == LEFT:\n",
    "                                x_,y_ = moveleft(x,y)\n",
    "                            elif a == RIGHT:\n",
    "                                x_,y_ = moveright(x,y)\n",
    "                            x_,y_ = x_,y_ if maps[x_][y_] != 'x' else x,y\n",
    "                            rew,done = reward(x_,y_)\n",
    "                            prob = p if a_ == a else (1-p)/3\n",
    "                            item += [(prob,(x_,y_),rew,done)]\n",
    "                        P[(x,y)][a] = item.copy()\n",
    "    return P"
   ]
  },
  {
   "cell_type": "code",
   "execution_count": 125,
   "metadata": {},
   "outputs": [],
   "source": [
    "def hall_cells(xrange,yrange):\n",
    "    output = set()\n",
    "    for x in xrange:\n",
    "        for y in yrange:\n",
    "            output.add((x,y))\n",
    "    return output"
   ]
  },
  {
   "cell_type": "code",
   "execution_count": 126,
   "metadata": {},
   "outputs": [],
   "source": [
    "def init_v(states,goal_pos,goal_value):\n",
    "    v = {}\n",
    "    for s in states:\n",
    "        if s == goal_pos:\n",
    "            v[s] = goal_val\n",
    "        else:\n",
    "            v[s] = 0\n",
    "    return v"
   ]
  },
  {
   "cell_type": "code",
   "execution_count": 127,
   "metadata": {},
   "outputs": [],
   "source": [
    "def opt_into_trans_mat(opt_list,trans_mat):\n",
    "    for opt in opt_list:\n",
    "        trans_mat_ = trans_mat(maps=MAPS,r=0,p=2/3,term_set=opt['term_set'],init_set=opt['init_set'])\n",
    "        # By setting the initial value function to be 1 at target cell and running value iteration\n",
    "        # algorithm, we get the discounted transition probability to the target cell from any cell.\n",
    "        V_init = init_v(opt['init_set'].union(opt['term_set']),opt['goal_pos'],1)\n",
    "        _,policy = value_iter(trans_mat_,V_init,THETA,1)\n",
    "        for s_ in opt['term_set']:\n",
    "            V_init = init_v(opt['init_set'].union(opt['term_set']),s_,GAMMA)\n",
    "            V = policy_eval(trans_mat_,V_init,policy,THETA,GAMMA)\n",
    "            for s in trans_mat:\n",
    "                if s in opt['init_set']:\n",
    "                    # Add the outcome of option into the orginal transition matrix.\n",
    "                    # The expected return by executing the option is 0 in this example. But in general,\n",
    "                    # it can be evaluated by policy evaluation with correct transition matrix.\n",
    "                    trans_mat[s][opt['label']] += [(V[s],s_,0,False)]\n",
    "    return trans_mat"
   ]
  },
  {
   "cell_type": "code",
   "execution_count": 122,
   "metadata": {},
   "outputs": [],
   "source": [
    "def plot_gridworld(maps,V):\n",
    "    maps = maps.split('\\n')[1:-1]\n",
    "    height = len(maps)\n",
    "    width = len(maps[0])\n",
    "    image = np.empty((height,width))\n",
    "    for x,row in enumerate(maps):\n",
    "        for y,letter in enumerate(row):\n",
    "            if letter == 'x':\n",
    "                image[x,y] = -1\n",
    "            else:\n",
    "                image[x,y] = 1\n",
    "    fig = plt.figure()\n",
    "    ax = fig.gca()\n",
    "    cmap = mpl.colors.ListedColormap(['red','white'])\n",
    "    bounds = [-1,0,1]\n",
    "    norm = mpl.colors.BoundaryNorm(bounds, cmap.N)\n",
    "    ax.set_xticks(range(width))\n",
    "    ax.set_yticks(range(height))\n",
    "    plt.imshow(image,cmap=cmap,extent=[0,width,0,height],norm=norm)\n",
    "    ax.set_xticklabels([])\n",
    "    ax.set_yticklabels([])\n",
    "    for s,val in V.items():\n",
    "        x,y = s\n",
    "        x += 0.5\n",
    "        y += 0.5\n",
    "        circle = plt.Circle((x,y),val/2.1,color='k')\n",
    "        ax.add_artist(circle)\n",
    "    ax.grid(which='major',color='black',alpha=1)\n",
    "    plt.show()"
   ]
  },
  {
   "cell_type": "code",
   "execution_count": 123,
   "metadata": {},
   "outputs": [
    {
     "data": {
      "image/png": "[encoded data removed]",
      "text/plain": [
       "<Figure size 432x288 with 1 Axes>"
      ]
     },
     "metadata": {},
     "output_type": "display_data"
    }
   ],
   "source": [
    "def figure_4():\n",
    "    plot_gridworld(MAPS,{(2,3):0.6,(8,3):1})\n",
    "figure_4()"
   ]
  },
  {
   "cell_type": "code",
   "execution_count": 129,
   "metadata": {},
   "outputs": [],
   "source": [
    "opt1 = {'label':4,\n",
    "       'init_set':hall_cells(range(1,6),range(1,6)).add((6,2)),\n",
    "       'term_set':set([(6,2),(3,6),(7,2)]),\n",
    "       'goal_pos':(3,6)\n",
    "      }\n",
    "opt2 = {'label':5,\n",
    "        'init_set':hall_cells(range(1,6),range(1,6)).add((3,6)),\n",
    "        'term_set':set([(6,2),(3,6),(3,7)]),\n",
    "        'goal_pos':(6,2)\n",
    "       }\n",
    "opt3 = {'labbel':6,\n",
    "        'init_set':hall_cells(range(7,12),range(1,6)).add((10,6)),\n",
    "        'term_set':set([(6,2),(10,6),(5,2)]),\n",
    "        'goal_pos':(6,2)}\n",
    "opt4 = {'label':7,\n",
    "        'init_set':hall_cells(range(7,12),range(1,6)).add((6,2)),\n",
    "        'term_set':set([(6,2),(10,6),(10,7)]),\n",
    "        'goal_pos':(10,6)}\n",
    "opt5 = {'label':8,\n",
    "        'init_set':hall_cells(range(1,7),range(7,12)).add((7,9)),\n",
    "        'term_set':set([(3,6),(7,9),(8,9)]),\n",
    "        'goal_pos':(3,6)}\n",
    "opt6 = {'label':9,\n",
    "        'init_set':hall_cells(range(1,7),range(7,12)).add((3,6)),\n",
    "        'term_set':set([(3,6),(7,9),(3,5)]),\n",
    "        'goal_pos':(7,9)}\n",
    "opt7 = {'label':10,\n",
    "        'init_set':hall_cells(range(8,12),range(7,12)).add((7,9)),\n",
    "        'term_set':set([(10,6),(7,9),(10,5)]),\n",
    "        'goal_pos':(7,9)}\n",
    "opt8 = {'label':9,\n",
    "        'init_set':hall_cells(range(8,12),range(7,12)).add((10,6)),\n",
    "        'term_set':set([(10,6),(7,9),(6,9)]),\n",
    "        'goal_pos':(10,6)}\n",
    "opt_list = [opt1,opt2,opt3,opt4,opt5,opt6,opt7,opt8]"
   ]
  },
  {
   "cell_type": "code",
   "execution_count": null,
   "metadata": {},
   "outputs": [],
   "source": [
    "trans_mat = trans_mat(maps=MAPS,r=0,p=2/3,term_set=set([(7,9)]))\n",
    "states = set()\n",
    "for key,_ in trans_mat.items():\n",
    "    states.add(key)\n",
    "V_init = init_v(states,(7,9),1)\n",
    "trans_mat = opt_into_trans_mat(opt_list=opt_list,trans_mat=trans_mat)\n",
    "V,_ = value_iter(trans_mat,V_init,10,GAMMA)\n",
    "plot_gridworld(MAPS,V)"
   ]
  }
 ],
 "metadata": {
  "kernelspec": {
   "display_name": "ml",
   "language": "python",
   "name": "ml"
  },
  "language_info": {
   "codemirror_mode": {
    "name": "ipython",
    "version": 3
   },
   "file_extension": ".py",
   "mimetype": "text/x-python",
   "name": "python",
   "nbconvert_exporter": "python",
   "pygments_lexer": "ipython3",
   "version": "3.5.3"
  }
 },
 "nbformat": 4,
 "nbformat_minor": 2
}
