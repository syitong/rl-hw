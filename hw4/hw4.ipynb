{
 "cells": [
  {
   "cell_type": "code",
   "execution_count": 5,
   "metadata": {},
   "outputs": [],
   "source": [
    "%matplotlib notebook"
   ]
  },
  {
   "cell_type": "code",
   "execution_count": 5,
   "metadata": {},
   "outputs": [],
   "source": [
    "import gym\n",
    "from gym.envs.registration import register\n",
    "import matplotlib as mpl\n",
    "# mpl.use('agg')\n",
    "import matplotlib.pyplot as plt\n",
    "plt.style.use('ggplot')\n",
    "import numpy as np\n",
    "from tiles3 import IHT, tiles\n",
    "register(\n",
    "    id='MountainCar-v1',\n",
    "    entry_point='gym.envs.classic_control:MountainCarEnv',\n",
    "    max_episode_steps=5000,\n",
    "    reward_threshold=-110.0,\n",
    ")"
   ]
  },
  {
   "cell_type": "code",
   "execution_count": 9,
   "metadata": {},
   "outputs": [
    {
     "name": "stdout",
     "output_type": "stream",
     "text": [
      "\u001b[33mWARN: gym.spaces.Box autodetected dtype as <class 'numpy.float32'>. Please provide explicit dtype.\u001b[0m\n"
     ]
    }
   ],
   "source": [
    "env = gym.make('MountainCar-v1')\n",
    "nA = 3\n",
    "iht = IHT(4096)"
   ]
  },
  {
   "cell_type": "code",
   "execution_count": 7,
   "metadata": {},
   "outputs": [],
   "source": [
    "def _greedy(Q,s):\n",
    "    qmax = np.max(Q(s))\n",
    "    actions = []\n",
    "    for i,q in enumerate(Q(s)):\n",
    "        if q == qmax:\n",
    "            actions.append(i)\n",
    "    if actions == []:\n",
    "        print(Q(s),s)\n",
    "    return actions\n",
    "\n",
    "def greedy(Q,s):\n",
    "    return np.random.choice(_greedy(Q,s))\n",
    "\n",
    "def ep_greedy(Q,s,ep):\n",
    "    if np.random.rand() < ep:\n",
    "        return np.random.choice(len(Q(s)))\n",
    "    else:\n",
    "        return greedy(Q,s)\n",
    "    \n",
    "def qhat(params,default=0):\n",
    "    # Estimate the action values using linear approximation.\n",
    "    def qhatw(s):\n",
    "        q = []\n",
    "        for a in range(nA):\n",
    "            qa = 0\n",
    "            # Sum of params at active features is the action value.\n",
    "            for i in feature(s,a):\n",
    "                qa += params.setdefault(i,default)\n",
    "            q.append(qa)\n",
    "        return q\n",
    "    return qhatw\n",
    "\n",
    "def feature(state,action):\n",
    "    # Return the indices of active features for state,action pair.\n",
    "    # Use the tile-coding according to p246 of Sutton's book.\n",
    "    x,xdot = state\n",
    "    return tiles(iht,8,[8*x/(0.5+1.2),8*xdot/(0.07+0.07)],[action])\n",
    "\n",
    "# This algorithm is implemented according to the pseudo-code on p305 of Sutton's book. \n",
    "def sarsalambda(env,feature,qhat,epsilon,alpha,lambda_,gamma,n_ep):\n",
    "    w,z = {},{}\n",
    "    episode = 0\n",
    "    steps_list = []\n",
    "    avg_steps = 0\n",
    "    while episode < n_ep:\n",
    "        s = env.reset()\n",
    "        a = ep_greedy(qhat(w),s,epsilon)\n",
    "        done = False\n",
    "        steps = 0\n",
    "        while not done:\n",
    "#             env.render()\n",
    "            ss,r,done,_ = env.step(a)\n",
    "            steps += 1\n",
    "            delta = r\n",
    "            for i in feature(s,a):\n",
    "                delta = delta - w.setdefault(i,0)\n",
    "                z[i] = z.setdefault(i,0) + 1 # accumulating traces\n",
    "#                 z[i] = 1 # replacing traces\n",
    "            if done:\n",
    "                for key,val in z.items():\n",
    "                    w[key] = w.setdefault(key,0) + alpha * delta * val\n",
    "                break\n",
    "            try:\n",
    "                aa = ep_greedy(qhat(w),ss,epsilon)\n",
    "            except:\n",
    "                print(episode)\n",
    "                break\n",
    "            for i in feature(ss,aa):\n",
    "                delta = delta + gamma * w.setdefault(i,0)\n",
    "            for key,val in z.items():\n",
    "                w[key] = w.setdefault(key,0) + alpha * delta * val\n",
    "                z[key] = gamma * lambda_ * val\n",
    "            s,a = ss,aa\n",
    "        episode += 1\n",
    "        steps_list.append(steps)\n",
    "        avg_steps = (avg_steps * (episode - 1) + steps) / episode\n",
    "#         env.render()\n",
    "    return avg_steps,steps_list"
   ]
  },
  {
   "cell_type": "code",
   "execution_count": 14,
   "metadata": {},
   "outputs": [],
   "source": [
    "def plot_mountaincar():\n",
    "    alpha = 1/8\n",
    "    epsilon = 0\n",
    "    lambda_ = 0.92\n",
    "    gamma = 1\n",
    "    runs = 1\n",
    "    n_ep = 50\n",
    "    for run in range(runs):\n",
    "        avg_steps,steps_list = sarsalambda(env,feature,qhat,epsilon,alpha,lambda_,gamma,n_ep)\n",
    "        print(avg_steps)\n",
    "        fig = plt.figure()\n",
    "        plt.plot(steps_list)\n",
    "        plt.show()"
   ]
  },
  {
   "cell_type": "code",
   "execution_count": 15,
   "metadata": {},
   "outputs": [
    {
     "name": "stdout",
     "output_type": "stream",
     "text": [
      "176.52\n"
     ]
    },
    {
     "data": {
      "image/png": "[encoded data removed]",
      "text/plain": [
       "<Figure size 432x288 with 1 Axes>"
      ]
     },
     "metadata": {},
     "output_type": "display_data"
    }
   ],
   "source": [
    "plot_mountaincar()"
   ]
  },
  {
   "cell_type": "code",
   "execution_count": 35,
   "metadata": {},
   "outputs": [],
   "source": [
    "env.close()"
   ]
  }
 ],
 "metadata": {
  "kernelspec": {
   "display_name": "tensorflow",
   "language": "python",
   "name": "tensorflow"
  },
  "language_info": {
   "codemirror_mode": {
    "name": "ipython",
    "version": 3
   },
   "file_extension": ".py",
   "mimetype": "text/x-python",
   "name": "python",
   "nbconvert_exporter": "python",
   "pygments_lexer": "ipython3",
   "version": "3.6.7"
  }
 },
 "nbformat": 4,
 "nbformat_minor": 2
}
