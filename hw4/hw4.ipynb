{
 "cells": [
  {
   "cell_type": "code",
   "execution_count": 2,
   "metadata": {},
   "outputs": [],
   "source": [
    "%matplotlib notebook"
   ]
  },
  {
   "cell_type": "code",
   "execution_count": 4,
   "metadata": {},
   "outputs": [
    {
     "name": "stdout",
     "output_type": "stream",
     "text": [
      "\u001b[33mWARN: gym.spaces.Box autodetected dtype as <class 'numpy.float32'>. Please provide explicit dtype.\u001b[0m\n"
     ]
    },
    {
     "data": {
      "text/plain": [
       "array([-0.47429813,  0.        ])"
      ]
     },
     "execution_count": 4,
     "metadata": {},
     "output_type": "execute_result"
    }
   ],
   "source": [
    "import gym\n",
    "env = gym.make('MountainCar-v0')\n",
    "env.reset()"
   ]
  },
  {
   "cell_type": "code",
   "execution_count": null,
   "metadata": {},
   "outputs": [],
   "source": [
    "def greedy(epsilon):\n",
    "    pass\n",
    "\n",
    "def qhat(state,params):\n",
    "    # Estimate the action values using linear approximation.\n",
    "    pass\n",
    "\n",
    "def feature(state,action):\n",
    "    # Return the indices of active features for state,action pair.\n",
    "    pass\n",
    "\n",
    "# This algorithm is implemented according to the pseudo-code on p305 of Sutton's book. \n",
    "def sarsalambda(env,feature,qhat,epsilon,alpha,lambda_,gamma):\n",
    "    w,z = {},{}\n",
    "    episode = 0\n",
    "    while episode < n_ep:\n",
    "        s = env.reset()\n",
    "        a = greedy(epsilon,qhat(s,w))\n",
    "        done = False\n",
    "        while not done:\n",
    "            r,ss,done = env.step(a)\n",
    "            delta = r\n",
    "            for i in feature(s,a):\n",
    "                delta = delta - w.setdefault(i,0)\n",
    "                z[i] = z.setdefault(i,0) + 1 # accumulating traces\n",
    "                # z[i] = 1 # replacing traces\n",
    "            if done:\n",
    "                for key,val in z.items():\n",
    "                    w[key] = w[key] + alpha * delta * val\n",
    "                break\n",
    "            aa = greedy(epsilon,qhat(ss,w))\n",
    "            for i in feature(ss,aa):\n",
    "                delta = delta + gamma * w.setdefault(i,0)\n",
    "            for key,val in z.items():\n",
    "                w[key] = w.setdefault(key,0) + alpha * delta * val\n",
    "            for key,val in z.items():\n",
    "                z[key] = gamma * lambda_ * val\n",
    "            s,a = ss,aa\n"
   ]
  },
  {
   "cell_type": "code",
   "execution_count": 2,
   "metadata": {},
   "outputs": [
    {
     "name": "stdout",
     "output_type": "stream",
     "text": [
      "0 a\n",
      "1 b\n"
     ]
    }
   ],
   "source": [
    "a = {0:'a',1:'b'}\n",
    "for key,val in a.items():\n",
    "    print(key,val)"
   ]
  }
 ],
 "metadata": {
  "kernelspec": {
   "display_name": "tensorflow",
   "language": "python",
   "name": "tensorflow"
  },
  "language_info": {
   "codemirror_mode": {
    "name": "ipython",
    "version": 3
   },
   "file_extension": ".py",
   "mimetype": "text/x-python",
   "name": "python",
   "nbconvert_exporter": "python",
   "pygments_lexer": "ipython3",
   "version": "3.6.7"
  }
 },
 "nbformat": 4,
 "nbformat_minor": 2
}
