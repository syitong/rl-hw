{
 "cells": [
  {
   "cell_type": "code",
   "execution_count": 2,
   "metadata": {},
   "outputs": [],
   "source": [
    "%matplotlib notebook"
   ]
  },
  {
   "cell_type": "code",
   "execution_count": 6,
   "metadata": {},
   "outputs": [],
   "source": [
    "import matplotlib as mpl\n",
    "# mpl.use('agg')\n",
    "import matplotlib.pyplot as plt\n",
    "plt.style.use('ggplot')\n",
    "import numpy as np\n",
    "import sys,time\n",
    "from mdp import value_iter"
   ]
  },
  {
   "cell_type": "code",
   "execution_count": 9,
   "metadata": {},
   "outputs": [],
   "source": [
    "MAPS = \\\n",
    "'''\n",
    "xxxxxxxxxxxxx\n",
    "xoooooxooooox\n",
    "xoooooxooooox\n",
    "xooooooooooox\n",
    "xoooooxooooox\n",
    "xoooooxooooox\n",
    "xxoxxxxooooox\n",
    "xoooooxxxoxxx\n",
    "xoooooxooooox\n",
    "xoooooxooooox\n",
    "xooooooooooox\n",
    "xoooooxooooox\n",
    "xxxxxxxxxxxxx\n",
    "'''\n",
    "LEFT = 0\n",
    "RIGHT = 1\n",
    "UP = 2\n",
    "DOWN = 3\n",
    "GAMMA = 0.9\n",
    "THETA = 0.0001"
   ]
  },
  {
   "cell_type": "code",
   "execution_count": 20,
   "metadata": {},
   "outputs": [
    {
     "name": "stdout",
     "output_type": "stream",
     "text": [
      "0\n"
     ]
    }
   ],
   "source": [
    "# a = MAPS\n",
    "# a.split('\\n')[1:-1]\n",
    "x = 1 if False else 0\n",
    "print(x)"
   ]
  },
  {
   "cell_type": "code",
   "execution_count": 9,
   "metadata": {},
   "outputs": [],
   "source": [
    "def trans_mat(maps,p,r,term_set,init_set=None):\n",
    "    moveup = lambda x,y:(x,y-1)\n",
    "    movedown = lambda x,y:(x,y+1)\n",
    "    moveleft = lambda x,y:(x-1,y)\n",
    "    moveright = lambda x,y:(x+1,y)\n",
    "    \n",
    "    def reward(x,y):\n",
    "        return (r,True) if (x,y) in term_set else (0,False)\n",
    "    \n",
    "    maps = maps.split('\\n')[-1:1]\n",
    "    P = {}\n",
    "    for x,row in enumerate(maps):\n",
    "        for y,letter in enumerate(row):\n",
    "            if init_set == None or (x,y) in init_set:\n",
    "                if letter != 'x':\n",
    "                    P[(x,y)] = {}\n",
    "                    for a in range(4):\n",
    "                        item = []\n",
    "                        for a_ in range(4):\n",
    "                            if a == UP:\n",
    "                                x_,y_ = moveup(x,y)\n",
    "                            elif a == DOWN:\n",
    "                                x_,y_ = movedown(x,y)\n",
    "                            elif a == LEFT:\n",
    "                                x_,y_ = moveleft(x,y)\n",
    "                            elif a == RIGHT:\n",
    "                                x_,y_ = moveright(x,y)\n",
    "                            x_,y_ = x_,y_ if maps[x_][y_] != 'x' else x,y\n",
    "                            rew,done = reward(x_,y_)\n",
    "                            prob = p if a_ == a else (1-p)/3\n",
    "                            item += [(prob,(x_,y_),rew,done)]\n",
    "                        P[(x,y)][a] = item.copy()\n",
    "    return P"
   ]
  },
  {
   "cell_type": "code",
   "execution_count": null,
   "metadata": {},
   "outputs": [],
   "source": [
    "def hall_cells(xrange,yrange):\n",
    "    output = set()\n",
    "    for x in xrange:\n",
    "        for y in yrange:\n",
    "            output.add((x,y))\n",
    "    return output"
   ]
  },
  {
   "cell_type": "code",
   "execution_count": null,
   "metadata": {},
   "outputs": [],
   "source": [
    "def init_v(states,goal_pos,goal_value):\n",
    "    v = {}\n",
    "    for s in states:\n",
    "        if s == goal_pos:\n",
    "            v[s] = goal_val\n",
    "        else:\n",
    "            v[s] = 0\n",
    "    return v"
   ]
  },
  {
   "cell_type": "code",
   "execution_count": null,
   "metadata": {},
   "outputs": [],
   "source": [
    "op1 = {'label':4,\n",
    "      'init_set':hall_cells(range(1,6),range(1,6)).add((2,6)),\n",
    "      'term_set':set([(6,3),(2,6),(2,7)]),\n",
    "      'goal_pos':(6,3)}\n",
    "trans_mat = trans_mat(maps=MAPS,r=0,p=2/3,term_set=set([(9,7)])\n",
    "def opt_into_trans_mat(opt_list,trans_mat):\n",
    "    for opt in opt_list:\n",
    "        trans_mat_ = trans_mat(maps=MAPS,r=0,p=2/3,term_set=opt['term_set'],init_set=opt['init_set'])\n",
    "        # By setting the initial value function to be 1 at target cell and running value iteration\n",
    "        # algorithm, we get the discounted transition probability to the target cell from any cell.\n",
    "        V_init = init_v(opt['init_set'].union(opt['term_set']),opt['goal_pos'],1)\n",
    "        _,policy = value_iter(trans_mat_,V_init,THETA,1)\n",
    "        for s_ in opt['term_set']:\n",
    "            V_init = init_v(opt['init_set'].union(opt['term_set']),s_,GAMMA)\n",
    "            V = policy_eval(trans_mat_,V_init,policy,THETA,GAMMA)\n",
    "            for s in trans_mat:\n",
    "                if s in opt['init_set']:\n",
    "                    # Add the outcome of option into the orginal transition matrix.\n",
    "                    # The expected return by executing the option is 0 in this example. But in general,\n",
    "                    # it can be evaluated by policy evaluation with correct transition matrix.\n",
    "                    trans_mat[s][opt['label']] += [(V[s],s_,0,False)]\n",
    "    return trans_mat"
   ]
  },
  {
   "cell_type": "code",
   "execution_count": null,
   "metadata": {},
   "outputs": [],
   "source": [
    "def plot_gridworld(maps,values):\n",
    "    maps = maps.split('\\n')[1:-1]\n",
    "    for x,row in enumerate(maps):\n",
    "        for y,letter in enumerate(row):\n",
    "            image[x,y] = \n",
    "    fig = plt.figure()\n",
    "    ax = fig.gca()\n",
    "    xticks = np.arange(len())\n",
    "    ax.set_xticks()\n",
    "    ax.grid(False)\n",
    "    plt.imshow(image,cmap=plt.cm.Blues)"
   ]
  },
  {
   "cell_type": "code",
   "execution_count": null,
   "metadata": {},
   "outputs": [],
   "source": [
    "def figure_4():\n",
    "    "
   ]
  },
  {
   "cell_type": "code",
   "execution_count": 8,
   "metadata": {},
   "outputs": [
    {
     "data": {
      "text/plain": [
       "<matplotlib.image.AxesImage at 0x7c93bf364da0>"
      ]
     },
     "execution_count": 8,
     "metadata": {},
     "output_type": "execute_result"
    },
    {
     "data": {
      "image/png": "[encoded data removed]",
      "text/plain": [
       "<Figure size 432x288 with 1 Axes>"
      ]
     },
     "metadata": {},
     "output_type": "display_data"
    }
   ],
   "source": [
    "image = np.arange(9).reshape(3,3)\n",
    "fig = plt.figure()\n",
    "ax = fig.gca()\n",
    "ax.grid(False)\n",
    "plt.imshow(image,cmap=plt.cm.Blues)"
   ]
  },
  {
   "cell_type": "code",
   "execution_count": 19,
   "metadata": {},
   "outputs": [
    {
     "data": {
      "text/plain": [
       "{1, 2}"
      ]
     },
     "execution_count": 19,
     "metadata": {},
     "output_type": "execute_result"
    }
   ],
   "source": [
    "a = set([2,3])\n",
    "a.add(1)\n",
    "a.remove(3)\n",
    "a"
   ]
  }
 ],
 "metadata": {
  "kernelspec": {
   "display_name": "ml",
   "language": "python",
   "name": "ml"
  },
  "language_info": {
   "codemirror_mode": {
    "name": "ipython",
    "version": 3
   },
   "file_extension": ".py",
   "mimetype": "text/x-python",
   "name": "python",
   "nbconvert_exporter": "python",
   "pygments_lexer": "ipython3",
   "version": "3.5.3"
  }
 },
 "nbformat": 4,
 "nbformat_minor": 2
}
