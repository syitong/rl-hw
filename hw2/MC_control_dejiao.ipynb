{
 "cells": [
  {
   "cell_type": "code",
   "execution_count": 1,
   "metadata": {},
   "outputs": [],
   "source": [
    "%matplotlib inline\n",
    "\n",
    "import gym\n",
    "import matplotlib\n",
    "import matplotlib.pyplot as plt\n",
    "import numpy as np\n",
    "from numpy import array\n",
    "import sys\n",
    "\n",
    "from collections import defaultdict, OrderedDict\n",
    "matplotlib.style.use('ggplot')\n",
    "\n",
    "import mytaxi"
   ]
  },
  {
   "cell_type": "code",
   "execution_count": 2,
   "metadata": {},
   "outputs": [
    {
     "name": "stdout",
     "output_type": "stream",
     "text": [
      "#state:501, #action6\n"
     ]
    }
   ],
   "source": [
    "env = gym.make('Taxi-v3').unwrapped\n",
    "numS = env.observation_space.n\n",
    "numA = env.action_space.n\n",
    "print(\"#state:{}, #action{}\".format(numS, numA))"
   ]
  },
  {
   "cell_type": "code",
   "execution_count": 3,
   "metadata": {},
   "outputs": [],
   "source": [
    "def make_epsilon_greedy_policy(Q, epsilon, nA):\n",
    "    def policy_fn(observation):\n",
    "        A = np.ones(nA, dtype=float) * epsilon / nA\n",
    "        best_action = np.argmax(Q[observation])\n",
    "        A[best_action] += (1.0 - epsilon)\n",
    "        return A\n",
    "    return policy_fn"
   ]
  },
  {
   "cell_type": "code",
   "execution_count": 4,
   "metadata": {},
   "outputs": [],
   "source": [
    "def mc_control_epsilon_greedy(env, num_episodes, discount_factor=1, epsilon=0.1, alpha=1.0, runs=10):\n",
    "    runs = 10\n",
    "    rew_alloc = []\n",
    "    for run in range(runs):\n",
    "        np.random.seed(run)\n",
    "        env.seed(run)\n",
    "        returns_sum = defaultdict(float)\n",
    "        returns_count = defaultdict(float)\n",
    "\n",
    "        # The final action-value function.\n",
    "        # A nested dictionary that maps state -> (action -> action-value).\n",
    "        Q = defaultdict(lambda: np.zeros(env.action_space.n))\n",
    "\n",
    "        policy = make_epsilon_greedy_policy(Q, epsilon, numA)\n",
    "        rew_list = np.zeros(int(num_episodes/50))\n",
    "        for i_episode in range(num_episodes):\n",
    "            # Print out which episode we're on, useful for debugging.\n",
    "            if i_episode % 1000 == 0:\n",
    "                print(\"\\rEpisode {}/{}.\".format(i_episode, num_episodes), end=\"\")\n",
    "                sys.stdout.flush()\n",
    "\n",
    "            # Generate an episode.\n",
    "            # An episode is an array of (state, action, reward) tuples\n",
    "            episode = []\n",
    "            state = env.reset()\n",
    "            done = False\n",
    "    #         while not done:\n",
    "            for t in range(1000):\n",
    "                probs = policy(state)\n",
    "                action = np.random.choice(np.arange(len(probs)), p=probs)\n",
    "                next_state, reward, done, _ = env.step(action)\n",
    "                episode.append((state, action, reward))\n",
    "                if i_episode % 50 == 0:\n",
    "                    idx = int(i_episode / 50) \n",
    "                    rew_list[idx] += reward\n",
    "                if done:\n",
    "                    break\n",
    "                state = next_state\n",
    "\n",
    "            # Find all (state, action) pairs we've visited in this episode\n",
    "            sa_in_episode = set([(x[0], x[1]) for x in episode])\n",
    "            for state, action in sa_in_episode:\n",
    "                sa_pair = (state, action)\n",
    "                # Find the first occurance of the (state, action) pair in the episode\n",
    "                first_occurence_idx = next(i for i,x in enumerate(episode)\n",
    "                                           if x[0] == state and x[1] == action)\n",
    "                # Sum up all rewards since the first occurance\n",
    "                G = sum([x[2]*(discount_factor**i) for i,x in enumerate(episode[first_occurence_idx:])])\n",
    "                # Calculate average return for this state over all sampled episodes\n",
    "    #             returns_sum[sa_pair] += G\n",
    "                returns_sum[sa_pair] = alpha * returns_sum[sa_pair] + G\n",
    "                returns_count[sa_pair] += 1.0\n",
    "                # The policy is improved implicitly by changing the Q dictionary\n",
    "                Q[state][action] = returns_sum[sa_pair] / returns_count[sa_pair]\n",
    "        rew_alloc.append(rew_list)\n",
    "    rew_list = np.mean(np.array(rew_alloc),axis=0)\n",
    "    fig = plt.figure()\n",
    "    plt.plot(rew_list)\n",
    "    plt.savefig('mc_control-interim.eps')\n",
    "    plt.close(fig)\n",
    "        \n",
    "    return Q, policy"
   ]
  },
  {
   "cell_type": "code",
   "execution_count": 5,
   "metadata": {},
   "outputs": [],
   "source": [
    "def plot_value_function(V, baseline, title=\"Value Function\"):\n",
    "    \"\"\"\n",
    "    Plots the value function as a surface plot.\n",
    "    \"\"\"\n",
    "    V_ordered = OrderedDict(sorted(V.items()))\n",
    "    \n",
    "    print('\\n')\n",
    "    print(len(V.keys()))\n",
    "    \n",
    "    v_s = np.zeros(len(V.keys()))\n",
    "    idx = 0\n",
    "    for key, val in V_ordered.items():\n",
    "        v_s[idx] = val\n",
    "        idx +=1\n",
    "\n",
    "    # print(np.sort(np.asarray(V.keys())))\n",
    "\n",
    "#     plt.plot(np.asarray(v_s), marker='o',linewidth=2)\n",
    "    plt.plot(v_s,marker='o',linestyle='None',label='mc')\n",
    "    plt.plot(baseline,marker='x',linestyle='None',label='base')\n",
    "    plt.legend([\"MC\", \"Baseline\"])\n",
    "    plt.title(title)\n",
    "    plt.xlabel(\"State\", fontsize=20)\n",
    "    plt.savefig(\"MC_control.png\")"
   ]
  },
  {
   "cell_type": "code",
   "execution_count": 6,
   "metadata": {},
   "outputs": [
    {
     "name": "stdout",
     "output_type": "stream",
     "text": [
      "Episode 9000/10000.Q:<class 'collections.defaultdict'>\n",
      "dict_keys([221, 321, 421, 441, 341, 492, 392, 472, 476, 376, 496, 396, 372, 491, 391, 471, 371, 160, 260, 360, 460, 480, 380, 386, 486, 466, 286, 366, 180, 280, 60, 40, 140, 240, 340, 440, 420, 320, 186, 86, 266, 98, 198, 298, 398, 498, 478, 474, 494, 193, 293, 393, 493, 473, 477, 497, 397, 377, 373, 269, 369, 469, 489, 389, 64, 164, 264, 284, 384, 484, 464, 364, 100, 200, 300, 400, 110, 210, 310, 410, 418, 220, 80, 485, 465, 365, 385, 444, 424, 324, 344, 490, 390, 470, 370, 287, 267, 367, 467, 487, 387, 192, 292, 272, 252, 352, 452, 432, 332, 406, 306, 434, 454, 354, 334, 126, 226, 326, 426, 446, 346, 71, 171, 271, 291, 191, 251, 351, 451, 431, 331, 21, 121, 101, 201, 301, 401, 67, 167, 187, 147, 247, 347, 447, 427, 327, 169, 149, 249, 349, 449, 429, 329, 133, 233, 333, 433, 453, 353, 166, 146, 246, 26, 6, 106, 206, 72, 172, 92, 152, 52, 132, 232, 212, 312, 412, 46, 66, 78, 178, 278, 378, 374, 394, 294, 274, 407, 307, 142, 242, 342, 442, 422, 322, 120, 0, 20, 16, 116, 216, 316, 416, 408, 308, 425, 445, 325, 345, 129, 229, 49, 69, 189, 289, 450, 430, 330, 350, 290, 270, 250, 150, 230, 190, 231, 151, 131, 211, 311, 411, 419, 319, 241, 261, 361, 461, 481, 381, 281, 10, 130, 170, 90, 70, 50, 475, 495, 395, 479, 379, 265, 285, 185, 245, 225, 181, 161, 81, 61, 141, 41, 1, 244, 84, 184, 44, 144, 224, 204, 304, 404, 328, 428, 448, 348, 254, 234, 214, 314, 414, 112, 12, 32, 124, 104, 91, 111, 31, 51, 143, 243, 343, 443, 423, 323, 93, 73, 173, 273, 153, 253, 33, 53, 11, 145, 125, 165, 65, 85, 25, 45, 29, 9, 109, 209, 309, 409, 417, 317, 154, 54, 134, 114, 14, 34, 174, 74, 194, 135, 235, 335, 435, 455, 355, 248, 228, 128, 148, 268, 368, 468, 488, 388, 275, 375, 288, 168, 188, 68, 48, 28, 30, 43, 63, 163, 263, 363, 463, 483, 383, 24, 4, 89, 94, 97, 197, 297, 96, 196, 296, 276, 27, 127, 227, 47, 107, 207, 87, 262, 362, 462, 482, 382, 219, 113, 213, 313, 413, 119, 139, 239, 339, 439, 459, 58, 158, 258, 358, 458, 302, 402, 202, 105, 205, 305, 405, 5, 162, 282, 182, 62, 42, 255, 175, 195, 295, 155, 75, 35, 55, 222, 122, 102, 2, 39, 159, 259, 359, 19, 3, 103, 203, 303, 403, 13, 17, 117, 217, 237, 337, 437, 283, 83, 183, 23, 123, 223, 95, 88, 208, 108, 277, 177, 77, 7, 59, 79, 179, 279, 399, 499, 22, 82, 15, 115, 215, 315, 415, 18, 118, 218, 318, 99, 199, 299, 38, 138, 238, 338, 438, 37, 137, 8, 36, 136, 236, 336, 436, 456, 356, 256, 156, 176, 76, 56, 157, 257, 357, 457, 57])\n"
     ]
    }
   ],
   "source": [
    "Q, policy = mc_control_epsilon_greedy(env, num_episodes=10000, epsilon=0.1, runs=10)\n",
    "print(\"Q:{}\".format(type(Q)))\n",
    "print(Q.keys())"
   ]
  },
  {
   "cell_type": "code",
   "execution_count": 7,
   "metadata": {},
   "outputs": [
    {
     "name": "stdout",
     "output_type": "stream",
     "text": [
      "\n",
      "\n",
      "500\n"
     ]
    },
    {
     "data": {
      "image/png": "[encoded data removed]",
      "text/plain": [
       "<matplotlib.figure.Figure at 0x109c8dda0>"
      ]
     },
     "metadata": {},
     "output_type": "display_data"
    }
   ],
   "source": [
    "# For plotting: Create value function from action-value function\n",
    "# by picking the best action at each state\n",
    "V = defaultdict(float)\n",
    "for state, actions in Q.items():\n",
    "    action_value = np.max(actions)\n",
    "    V[state] = action_value\n",
    "baseline = np.load('baseline.npy')\n",
    "plot_value_function(V, baseline, title=\"Optimal Value Function\")\n",
    "# plot_Q_table()\n",
    "with open('qtable_mc','w') as fp:\n",
    "    fp.write(str(Q))"
   ]
  },
  {
   "cell_type": "code",
   "execution_count": null,
   "metadata": {},
   "outputs": [],
   "source": []
  }
 ],
 "metadata": {
  "kernelspec": {
   "display_name": "Python 3",
   "language": "python",
   "name": "python3"
  },
  "language_info": {
   "codemirror_mode": {
    "name": "ipython",
    "version": 3
   },
   "file_extension": ".py",
   "mimetype": "text/x-python",
   "name": "python",
   "nbconvert_exporter": "python",
   "pygments_lexer": "ipython3",
   "version": "3.5.2"
  }
 },
 "nbformat": 4,
 "nbformat_minor": 1
}
