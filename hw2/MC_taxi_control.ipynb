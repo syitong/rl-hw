{
 "cells": [
  {
   "cell_type": "code",
   "execution_count": 1,
   "metadata": {},
   "outputs": [],
   "source": [
    "%matplotlib inline\n",
    "\n",
    "import gym\n",
    "import matplotlib\n",
    "import matplotlib.pyplot as plt\n",
    "import numpy as np\n",
    "from numpy import array\n",
    "import sys\n",
    "\n",
    "from collections import defaultdict, OrderedDict\n",
    "matplotlib.style.use('ggplot')\n",
    "\n",
    "# import RidiculusTaxi\n",
    "import mytaxi"
   ]
  },
  {
   "cell_type": "code",
   "execution_count": 2,
   "metadata": {},
   "outputs": [
    {
     "name": "stdout",
     "output_type": "stream",
     "text": [
      "#state:501, #action6\n"
     ]
    }
   ],
   "source": [
    "env = gym.make('Taxi-v3').unwrapped\n",
    "numS = env.observation_space.n\n",
    "numA = env.action_space.n\n",
    "print(\"#state:{}, #action{}\".format(numS, numA))"
   ]
  },
  {
   "cell_type": "code",
   "execution_count": 3,
   "metadata": {},
   "outputs": [],
   "source": [
    "def my_argmax(Q_s):\n",
    "    qmax = np.max(Q_s)\n",
    "    actions = []\n",
    "    for i,q in enumerate(Q_s):\n",
    "        if q == qmax:\n",
    "            actions.append(i)\n",
    "    action=np.random.choice(actions)\n",
    "    return action\n",
    "\n",
    "def make_epsilon_greedy_policy(Q, epsilon, nA):\n",
    "    def policy_fn(observation):\n",
    "        A = np.ones(nA, dtype=float) * epsilon / nA\n",
    "#         best_action = np.argmax(Q[observation])\n",
    "        best_action = my_argmax(Q[observation])\n",
    "        A[best_action] += (1.0 - epsilon)\n",
    "        A = A/sum(A)\n",
    "        return A\n",
    "    return policy_fn"
   ]
  },
  {
   "cell_type": "code",
   "execution_count": 4,
   "metadata": {},
   "outputs": [],
   "source": [
    "def mc_control_epsilon_greedy(env, num_episodes, discount_factor=1.0, epsilon=0.1):\n",
    "    \n",
    "    returns_sum = defaultdict(float)\n",
    "    returns_count = defaultdict(float)\n",
    "    \n",
    "    # The final action-value function.\n",
    "    # A nested dictionary that maps state -> (action -> action-value).\n",
    "    Q = defaultdict(lambda: np.zeros(env.action_space.n))\n",
    "    \n",
    "    policy = make_epsilon_greedy_policy(Q, epsilon, numA)\n",
    "    \n",
    "    for i_episode in range(1, num_episodes + 1):\n",
    "        # Print out which episode we're on, useful for debugging.\n",
    "        if i_episode % 1000 == 0:\n",
    "            print(\"\\rEpisode {}/{}.\".format(i_episode, num_episodes), end=\"\")\n",
    "            sys.stdout.flush()\n",
    "\n",
    "        # Generate an episode.\n",
    "        # An episode is an array of (state, action, reward) tuples\n",
    "        episode = []\n",
    "        state = env.reset()\n",
    "        done = False\n",
    "#         while not done:\n",
    "        for t in range(1000):\n",
    "            probs = policy(state)\n",
    "            action = np.random.choice(np.arange(len(probs)), p=probs)\n",
    "            next_state, reward, done, _ = env.step(action)\n",
    "            episode.append((state, action, reward))\n",
    "            if done:\n",
    "                break\n",
    "            state = next_state\n",
    "\n",
    "        # Find all (state, action) pairs we've visited in this episode\n",
    "        sa_in_episode = set([(x[0], x[1]) for x in episode])\n",
    "        for state, action in sa_in_episode:\n",
    "            sa_pair = (state, action)\n",
    "            # Find the first occurance of the (state, action) pair in the episode\n",
    "            first_occurence_idx = next(i for i,x in enumerate(episode)\n",
    "                                       if x[0] == state and x[1] == action)\n",
    "            # Sum up all rewards since the first occurance\n",
    "            G = sum([x[2]*(discount_factor**i) for i,x in enumerate(episode[first_occurence_idx:])])\n",
    "            # Calculate average return for this state over all sampled episodes\n",
    "            returns_sum[sa_pair] += G\n",
    "            returns_count[sa_pair] += 1.0\n",
    "            # The policy is improved implicitly by changing the Q dictionary\n",
    "            Q[state][action] = returns_sum[sa_pair] / returns_count[sa_pair]\n",
    "        \n",
    "    return Q, policy"
   ]
  },
  {
   "cell_type": "code",
   "execution_count": 5,
   "metadata": {},
   "outputs": [],
   "source": [
    "def plot_value_function(V, baseline, title=\"Value Function\"):\n",
    "    \"\"\"\n",
    "    Plots the value function as a surface plot.\n",
    "    \"\"\"\n",
    "    V_ordered = OrderedDict(sorted(V.items()))\n",
    "    \n",
    "    print('\\n')\n",
    "    print(len(V.keys()))\n",
    "    \n",
    "    v_s = np.zeros(len(V.keys()))\n",
    "    idx = 0\n",
    "    for key, val in V_ordered.items():\n",
    "        v_s[idx] = val\n",
    "        idx +=1\n",
    "\n",
    "    # print(np.sort(np.asarray(V.keys())))\n",
    "\n",
    "#     plt.plot(np.asarray(v_s), marker='o',linewidth=2)\n",
    "    plt.plot(v_s,marker='o',linestyle='None',label='mc')\n",
    "    plt.plot(baseline,marker='x',linestyle='None',label='base')\n",
    "    plt.legend([\"MC\", \"Baseline\"])\n",
    "    plt.title(title)\n",
    "    plt.xlabel(\"State\", fontsize=20)\n",
    "    plt.savefig(\"MC_control.png\")"
   ]
  },
  {
   "cell_type": "code",
   "execution_count": 6,
   "metadata": {},
   "outputs": [
    {
     "name": "stdout",
     "output_type": "stream",
     "text": [
      "Episode 100000/100000.Q:<class 'collections.defaultdict'>\n",
      "dict_keys([91, 191, 291, 391, 371, 471, 491, 271, 251, 351, 451, 331, 231, 131, 151, 171, 71, 51, 211, 111, 11, 311, 411, 31, 419, 319, 219, 119, 19, 39, 139, 159, 59, 179, 279, 299, 399, 499, 379, 479, 199, 99, 79, 87, 67, 167, 267, 147, 247, 47, 127, 27, 347, 447, 107, 207, 307, 7, 227, 427, 327, 367, 467, 487, 387, 287, 407, 344, 324, 224, 204, 104, 124, 4, 24, 144, 164, 44, 64, 184, 284, 264, 364, 244, 444, 424, 84, 384, 484, 304, 404, 464, 96, 76, 56, 176, 276, 256, 376, 396, 296, 496, 476, 156, 136, 356, 336, 236, 436, 472, 456, 216, 316, 416, 408, 308, 208, 228, 108, 128, 148, 168, 68, 88, 188, 288, 388, 488, 368, 268, 248, 328, 428, 348, 48, 28, 448, 8, 102, 2, 22, 122, 142, 242, 342, 322, 422, 442, 222, 262, 162, 202, 302, 402, 18, 118, 138, 38, 158, 258, 238, 358, 338, 438, 218, 42, 62, 282, 382, 362, 482, 462, 82, 182, 413, 313, 213, 113, 133, 33, 233, 253, 153, 173, 273, 373, 393, 293, 473, 477, 497, 377, 277, 297, 397, 197, 97, 177, 77, 401, 301, 201, 101, 121, 221, 321, 421, 341, 441, 241, 141, 41, 61, 161, 261, 281, 181, 81, 361, 381, 21, 1, 17, 37, 137, 117, 217, 317, 417, 409, 309, 209, 229, 129, 149, 169, 49, 69, 89, 189, 269, 289, 369, 469, 249, 29, 9, 389, 489, 109, 349, 329, 449, 429, 354, 334, 434, 454, 254, 274, 234, 134, 34, 14, 114, 214, 294, 394, 494, 374, 474, 478, 498, 398, 378, 298, 278, 198, 98, 86, 186, 286, 386, 486, 266, 166, 66, 46, 146, 366, 466, 78, 178, 58, 318, 418, 123, 103, 3, 23, 239, 259, 223, 243, 263, 283, 363, 463, 383, 483, 183, 83, 63, 163, 43, 143, 343, 323, 443, 423, 203, 303, 403, 94, 74, 174, 194, 54, 154, 314, 414, 332, 352, 252, 452, 432, 152, 132, 32, 12, 112, 212, 232, 312, 412, 172, 192, 272, 292, 72, 372, 92, 392, 492, 52, 468, 73, 53, 333, 353, 453, 433, 13, 93, 193, 493, 226, 126, 206, 306, 406, 326, 426, 446, 346, 246, 106, 6, 26, 237, 157, 257, 357, 457, 420, 320, 220, 120, 140, 240, 20, 100, 200, 300, 400, 0, 260, 280, 180, 80, 160, 340, 440, 16, 36, 196, 116, 410, 380, 360, 460, 461, 481, 337, 437, 205, 225, 125, 105, 145, 245, 345, 445, 325, 425, 25, 5, 265, 45, 65, 85, 185, 285, 359, 459, 439, 339, 330, 350, 250, 150, 170, 190, 290, 390, 370, 90, 270, 470, 230, 130, 30, 10, 110, 210, 430, 310, 70, 50, 485, 465, 365, 165, 385, 235, 255, 215, 315, 415, 275, 175, 295, 75, 95, 195, 375, 395, 155, 55, 135, 35, 115, 15, 335, 355, 455, 435, 475, 187, 40, 60, 480, 458, 450, 495, 490, 431, 57, 305, 405])\n"
     ]
    }
   ],
   "source": [
    "Q, policy = mc_control_epsilon_greedy(env, num_episodes=100000, epsilon=0.1)\n",
    "print(\"Q:{}\".format(type(Q)))\n",
    "print(Q.keys())"
   ]
  },
  {
   "cell_type": "code",
   "execution_count": 7,
   "metadata": {},
   "outputs": [
    {
     "name": "stdout",
     "output_type": "stream",
     "text": [
      "\n",
      "\n",
      "500\n"
     ]
    },
    {
     "data": {
      "image/png": "[encoded data removed]",
      "text/plain": [
       "<matplotlib.figure.Figure at 0x1a11ffe9e8>"
      ]
     },
     "metadata": {},
     "output_type": "display_data"
    }
   ],
   "source": [
    "# For plotting: Create value function from action-value function\n",
    "# by picking the best action at each state\n",
    "V = defaultdict(float)\n",
    "for state, actions in Q.items():\n",
    "    action_value = np.max(actions)\n",
    "    V[state] = action_value\n",
    "baseline = np.load('baseline.npy')\n",
    "plot_value_function(V, baseline, title=\"MC_control\")\n",
    "# plot_Q_table()\n",
    "with open('qtable_mc','w') as fp:\n",
    "    fp.write(str(Q))"
   ]
  },
  {
   "cell_type": "code",
   "execution_count": null,
   "metadata": {},
   "outputs": [],
   "source": []
  }
 ],
 "metadata": {
  "kernelspec": {
   "display_name": "Python 3",
   "language": "python",
   "name": "python3"
  },
  "language_info": {
   "codemirror_mode": {
    "name": "ipython",
    "version": 3
   },
   "file_extension": ".py",
   "mimetype": "text/x-python",
   "name": "python",
   "nbconvert_exporter": "python",
   "pygments_lexer": "ipython3",
   "version": "3.6.4"
  }
 },
 "nbformat": 4,
 "nbformat_minor": 1
}
